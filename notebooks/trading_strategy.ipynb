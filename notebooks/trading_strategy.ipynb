{
 "cells": [
  {
   "cell_type": "markdown",
   "id": "6d88d7d7",
   "metadata": {},
   "source": [
    "## Setup\n",
    "### Import"
   ]
  },
  {
   "cell_type": "code",
   "execution_count": 4,
   "id": "42f132d5-ec04-4de8-8e7d-a5294b76301c",
   "metadata": {},
   "outputs": [],
   "source": [
    "import pandas as pd\n",
    "import numpy as np\n",
    "import matplotlib.pyplot as plt\n",
    "import seaborn as sns\n",
    "import yfinance as yf\n",
    "import os\n",
    "import sys\n",
    "from datetime import datetime, timedelta\n",
    "\n",
    "# Set up matplotlib for nicer plots\n",
    "plt.style.use('seaborn-v0_8-darkgrid')\n",
    "plt.rcParams['figure.figsize'] = (12, 6)\n",
    "plt.rcParams['font.size'] = 12\n",
    "\n",
    "# Add parent directory to path for imports\n",
    "module_path = os.path.abspath(os.path.join('..'))\n",
    "if module_path not in sys.path:\n",
    "    sys.path.append(module_path)"
   ]
  },
  {
   "cell_type": "code",
   "execution_count": 5,
   "id": "ee74c23c",
   "metadata": {},
   "outputs": [],
   "source": [
    "# Import data utilities\n",
    "from utils.data_utils import fetch_data, preprocess_data, resample_data, get_risk_free_rate\n",
    "\n",
    "# Import indicator utilities\n",
    "from utils.indicator_utils import calculate_kdj, calculate_sma, calculate_macd, calculate_rsi\n",
    "\n",
    "# Import performance utilities\n",
    "from utils.performance_utils import (\n",
    "    calculate_returns, plot_cumulative_returns, \n",
    "    plot_rolling_metrics, plot_drawdowns, generate_performance_report\n",
    ")\n",
    "\n",
    "# Import strategy\n",
    "from strategies.kdj_strategy import KDJStrategy\n",
    "\n",
    "# Import backtesting engine\n",
    "from backtest.engine import BacktestEngine\n",
    "\n",
    "# Import optimization module\n",
    "from optimize.grid_search import GridSearch"
   ]
  },
  {
   "cell_type": "markdown",
   "id": "1b7bbada",
   "metadata": {},
   "source": [
    "### Configure Parameters"
   ]
  },
  {
   "cell_type": "code",
   "execution_count": 6,
   "id": "f0dfc1ff",
   "metadata": {},
   "outputs": [],
   "source": [
    "# Configuration\n",
    "ticker = ''           # Ticker symbol\n",
    "benchmark = 'SPY'         # Benchmark ticker\n",
    "period = '4y'            # Data period (e.g., '1y', '5y', '10y')\n",
    "initial_capital = 100000  # Initial capital for backtesting\n",
    "#start_date = datetime.now()         # Start date for backtesting\n",
    "#end_date = datetime.now()           # End date for backtesting\n",
    "\n",
    "# Strategy parameters\n",
    "strategy_params = {\n",
    "    'k_period': 9,           \n",
    "    'j_buy_threshold': -5,   \n",
    "    'j_sell_threshold': 100,  \n",
    "    'daily_enabled': True,   \n",
    "    'weekly_enabled': True,  \n",
    "    'monthly_enabled': False,\n",
    "    'position_size': 0.7     \n",
    "}"
   ]
  },
  {
   "cell_type": "markdown",
   "id": "8e036227",
   "metadata": {},
   "source": [
    "### Download and Preprocess Data"
   ]
  },
  {
   "cell_type": "code",
   "execution_count": null,
   "id": "6baa52f0",
   "metadata": {},
   "outputs": [],
   "source": [
    "# Fetch data\n",
    "\n",
    "print(f\"Fetching data for {ticker} with {benchmark} as benchmark...\")\n",
    "data = fetch_data(ticker, period=period, benchmark=benchmark)\n"
   ]
  },
  {
   "cell_type": "code",
   "execution_count": null,
   "id": "ed00ab49",
   "metadata": {},
   "outputs": [],
   "source": [
    "print(data.head())"
   ]
  },
  {
   "cell_type": "code",
   "execution_count": null,
   "id": "4907afef",
   "metadata": {},
   "outputs": [],
   "source": [
    "\n",
    "\n",
    "# Preprocess data\n",
    "data = preprocess_data(data, ticker)\n",
    "\n",
    "# Display first few rows\n",
    "print(data.head())"
   ]
  },
  {
   "cell_type": "markdown",
   "id": "85dcd244",
   "metadata": {},
   "source": [
    "## Strategy Implementation"
   ]
  },
  {
   "cell_type": "code",
   "execution_count": null,
   "id": "6862bb79",
   "metadata": {},
   "outputs": [],
   "source": [
    "# Create strategy instance\n",
    "strategy = KDJStrategy(ticker, strategy_params)\n",
    "\n",
    "# Prepare data for the strategy\n",
    "prepared_data = strategy.prepare_data(data)\n",
    "\n",
    "# Generate trading signals\n",
    "signals_data = strategy.generate_signals(prepared_data)\n",
    "\n",
    "# Display generated signals\n",
    "signals_data[[f'{ticker}_close', f'{ticker}_kdj_j_weighted', f'{ticker}_signal', f'{ticker}_position_size']].tail(10)"
   ]
  },
  {
   "cell_type": "code",
   "execution_count": null,
   "id": "993e5bfb",
   "metadata": {},
   "outputs": [],
   "source": [
    "# Define function to plot KDJ indicator with signals\n",
    "def plot_kdj_signals(df, ticker, start_date=None, end_date=None, figsize=(12, 8), strategy_params=strategy_params):\n",
    "    if start_date:\n",
    "        df = df.loc[start_date:]\n",
    "    if end_date:\n",
    "        df = df.loc[:end_date]\n",
    "    \n",
    "    fig, (ax1, ax2) = plt.subplots(2, 1, figsize=figsize, sharex=True)\n",
    "\n",
    "    # Plot price with buy/sell signals\n",
    "    ax1.plot(df.index, df[f'{ticker}_close'], label='Close Price')\n",
    "    buy_signals = df[df[f'{ticker}_signal'] == 1]\n",
    "    sell_signals = df[df[f'{ticker}_signal'] == -1]\n",
    "\n",
    "    ax1.scatter(buy_signals.index, buy_signals[f'{ticker}_close'], color='green', marker='^', s=100, label='Buy Signal')\n",
    "    ax1.scatter(sell_signals.index, sell_signals[f'{ticker}_close'], color='red', marker='v', s=100, label='Sell Signal')\n",
    "\n",
    "    ax1.set_title(f'{ticker} Price and Signals')\n",
    "    ax1.set_ylabel('Price')\n",
    "    ax1.legend()\n",
    "    ax1.grid(True)\n",
    "\n",
    "    # Plot KDJ J line with thresholds\n",
    "    ax2.plot(df.index, df[f'{ticker}_kdj_j_weighted'], label='J weighted', color='purple')\n",
    "    ax2.axhline(y=strategy_params['j_buy_threshold'], color='green', linestyle='--', label='Buy Threshold')\n",
    "    ax2.axhline(y=strategy_params['j_sell_threshold'], color='red', linestyle='--', label='Sell Threshold')\n",
    "\n",
    "    ax2.set_ylabel('KDJ J Value')\n",
    "    ax2.set_xlabel('Date')\n",
    "    ax2.legend()\n",
    "    ax2.grid(True)\n",
    "\n",
    "    fig.tight_layout()\n",
    "    return fig\n",
    "\n",
    "# Plot last 180 days\n",
    "end_date = signals_data.index[-1]\n",
    "start_date = signals_data.index[0]\n",
    "plot_kdj_signals(signals_data, ticker, start_date, end_date)"
   ]
  },
  {
   "cell_type": "markdown",
   "id": "8690d264",
   "metadata": {},
   "source": [
    "## Backtesting"
   ]
  },
  {
   "cell_type": "code",
   "execution_count": null,
   "id": "d690589d",
   "metadata": {},
   "outputs": [],
   "source": [
    "# Get start and end dates from our data\n",
    "start_date = data.index[0]\n",
    "end_date = data.index[-1]\n",
    "\n",
    "# Fetch daily risk-free rates for the entire period\n",
    "print(f\"Fetching daily risk-free rates...\")\n",
    "risk_free_rates = get_risk_free_rate(start_date=start_date, end_date=end_date)\n",
    "print(risk_free_rates.head())"
   ]
  },
  {
   "cell_type": "code",
   "execution_count": null,
   "id": "bdf19539",
   "metadata": {},
   "outputs": [],
   "source": [
    "# Create backtesting engine with daily risk-free rates\n",
    "engine = BacktestEngine(initial_capital=initial_capital, risk_free_rate=risk_free_rates)\n",
    "\n",
    "# Run backtest\n",
    "print(f\"Running backtest for {ticker} with strategy {strategy.name}...\")\n",
    "backtest_results = engine.run(data, ticker, strategy)\n",
    "\n",
    "# Display backtest results\n",
    "print(backtest_results[[f'{ticker}_position', f'{ticker}_cash', f'{ticker}_equity', f'{ticker}_strategy_return']].tail())"
   ]
  },
  {
   "cell_type": "code",
   "execution_count": 53,
   "id": "37fcd65e",
   "metadata": {},
   "outputs": [],
   "source": [
    "portfolio_trade = engine.get_trades(backtest_results, ticker)"
   ]
  },
  {
   "cell_type": "code",
   "execution_count": null,
   "id": "a0631ee5",
   "metadata": {},
   "outputs": [],
   "source": [
    "print(portfolio_trade.columns)"
   ]
  },
  {
   "cell_type": "code",
   "execution_count": null,
   "id": "4ba31782",
   "metadata": {},
   "outputs": [],
   "source": [
    "print(portfolio_trade.iloc[:,-12:])"
   ]
  },
  {
   "cell_type": "code",
   "execution_count": null,
   "id": "8fcc0848",
   "metadata": {},
   "outputs": [],
   "source": [
    "print(backtest_results.columns)"
   ]
  },
  {
   "cell_type": "markdown",
   "id": "c3d20914",
   "metadata": {},
   "source": [
    "## Performance Analysis"
   ]
  },
  {
   "cell_type": "code",
   "execution_count": null,
   "id": "eb655381",
   "metadata": {},
   "outputs": [],
   "source": [
    "# Calculate performance metrics using daily risk-free rates\n",
    "metrics = calculate_returns(backtest_results, ticker, benchmark, risk_free_rates)\n",
    "\n",
    "# Generate performance report\n",
    "generate_performance_report(metrics)"
   ]
  },
  {
   "cell_type": "code",
   "execution_count": null,
   "id": "9550c2db",
   "metadata": {},
   "outputs": [],
   "source": [
    "engine.plot_equity_curve(backtest_results, ticker, benchmark)\n",
    "plot_rolling_metrics(backtest_results, ticker)\n",
    "engine.plot_drawdowns(backtest_results, ticker)"
   ]
  },
  {
   "cell_type": "markdown",
   "id": "b0738be0",
   "metadata": {},
   "source": [
    "## Optimization"
   ]
  },
  {
   "cell_type": "code",
   "execution_count": null,
   "id": "5eb3fd44",
   "metadata": {},
   "outputs": [],
   "source": [
    "# Define parameter grid\n",
    "param_grid = {\n",
    "    'k_period': [9],\n",
    "    'j_buy_threshold': [-5, 0,5],\n",
    "    'j_sell_threshold': [  100, 105, 110],\n",
    "    'daily_enabled': [True],\n",
    "    'weekly_enabled': [True],\n",
    "    'position_size': [ 0.5,  0.7, 1.0],\n",
    "    'weekly_weight': [ 0.5, 0.75, 1.0],\n",
    "}\n",
    "\n",
    "# Create and run grid search\n",
    "grid_search = GridSearch(\n",
    "    data=data,\n",
    "    ticker=ticker,\n",
    "    strategy_class=KDJStrategy,\n",
    "    param_grid=param_grid,\n",
    "    metric='sharpe_ratio',\n",
    "    maximize=True,\n",
    "    n_jobs=1  \n",
    ")\n",
    "grid_search.fit()"
   ]
  },
  {
   "cell_type": "markdown",
   "id": "9071e783",
   "metadata": {},
   "source": [
    "## Optimization Validation"
   ]
  },
  {
   "cell_type": "code",
   "execution_count": null,
   "id": "067b0c12",
   "metadata": {},
   "outputs": [],
   "source": [
    "# Apply best parameters\n",
    "best_strategy = KDJStrategy(ticker, grid_search.best_params)\n",
    "print(f\"Best parameters: {grid_search.best_params}\")\n",
    "\n",
    "# Run final backtest\n",
    "best_backtest = engine.run(data, ticker, best_strategy)\n",
    "\n",
    "# Evaluate performance\n",
    "best_metrics = calculate_returns(best_backtest, ticker, benchmark)\n",
    "generate_performance_report(best_metrics)\n",
    "\n",
    "# Plot final equity curve\n",
    "engine.plot_equity_curve(best_backtest, ticker, benchmark)"
   ]
  },
  {
   "cell_type": "code",
   "execution_count": null,
   "id": "aa170b9b",
   "metadata": {},
   "outputs": [],
   "source": [
    "best_signals_data = best_strategy.generate_signals(best_strategy.prepare_data(data))\n",
    "plot_kdj_signals(best_signals_data, ticker, start_date, end_date, strategy_params=best_strategy.params)"
   ]
  },
  {
   "cell_type": "code",
   "execution_count": null,
   "id": "2d5089e3",
   "metadata": {},
   "outputs": [],
   "source": [
    "engine.plot_equity_curve(best_backtest, ticker, benchmark)\n",
    "plot_rolling_metrics(best_backtest, ticker)\n",
    "engine.plot_drawdowns(best_backtest, ticker)"
   ]
  },
  {
   "cell_type": "code",
   "execution_count": null,
   "id": "899b75b4",
   "metadata": {},
   "outputs": [],
   "source": []
  },
  {
   "cell_type": "markdown",
   "id": "e2a8c2c9",
   "metadata": {},
   "source": [
    "$$\n",
    "dG(t,F)\n",
    "= \\underbrace{\\frac{\\partial G}{\\partial t}\\,dt}{\\text{time part}}\n",
    "\\;+\\;\\underbrace{\\frac{\\partial G}{\\partial F}\\,dF}{\\text{linear part in } dF}\n",
    "\\;+\\;\\underbrace{\\tfrac12 \\,\\frac{\\partial^2 G}{\\partial F^2}\\,(dF)^2}_{\\text{second-order term}}\n",
    "\\;+\\;\\dots\n",
    "$$"
   ]
  },
  {
   "cell_type": "markdown",
   "id": "0384969f",
   "metadata": {},
   "source": []
  }
 ],
 "metadata": {
  "kernelspec": {
   "display_name": "trading-env",
   "language": "python",
   "name": "python3"
  },
  "language_info": {
   "codemirror_mode": {
    "name": "ipython",
    "version": 3
   },
   "file_extension": ".py",
   "mimetype": "text/x-python",
   "name": "python",
   "nbconvert_exporter": "python",
   "pygments_lexer": "ipython3",
   "version": "3.9.21"
  }
 },
 "nbformat": 4,
 "nbformat_minor": 5
}
